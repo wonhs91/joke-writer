{
 "cells": [
  {
   "cell_type": "code",
   "execution_count": 22,
   "metadata": {},
   "outputs": [],
   "source": [
    "from langchain_ollama import ChatOllama\n",
    "from langchain_groq import ChatGroq\n",
    "\n",
    "# llm = ChatOllama(model='llama3.2', temperature=0.1, top_p=0.2 )\n",
    "# llm_creative = ChatOllama(model='llama3.2', temperature=1.2, top_p=0.9)\n",
    "llm = ChatGroq(model=\"llama-3.1-70b-versatile\", temperature=0.1, model_kwargs={'top_p':0.1})\n",
    "llm_creative = ChatGroq(model=\"llama-3.1-70b-versatile\", temperature=1.5, model_kwargs={'top_p':0.9})"
   ]
  },
  {
   "cell_type": "code",
   "execution_count": 25,
   "metadata": {},
   "outputs": [],
   "source": [
    "msg = \"think of any associations with the keyword 'College'\"\n",
    "normal_res = llm.invoke(msg)\n",
    "creative_res = llm_creative.invoke(msg)"
   ]
  },
  {
   "cell_type": "code",
   "execution_count": 26,
   "metadata": {},
   "outputs": [
    {
     "name": "stdout",
     "output_type": "stream",
     "text": [
      "==================================\u001b[1m Ai Message \u001b[0m==================================\n",
      "\n",
      "Here are some associations with the keyword 'College':\n",
      "\n",
      "1. Education: Colleges are institutions of higher learning where students can earn degrees and diplomas.\n",
      "2. University: Colleges are often part of a larger university system, offering a range of academic programs.\n",
      "3. Students: Colleges are attended by students, typically between the ages of 18 and 25, who are pursuing higher education.\n",
      "4. Campus: Colleges often have a physical campus with buildings, dormitories, libraries, and other facilities.\n",
      "5. Professors: Colleges employ professors and instructors to teach and mentor students.\n",
      "6. Majors: Colleges offer various academic majors, such as business, engineering, arts, and sciences.\n",
      "7. Dorms: Many colleges have dormitories where students can live on campus.\n",
      "8. Fraternities/Sororities: Some colleges have Greek life, with fraternities and sororities that offer social and community opportunities.\n",
      "9. Sports: Colleges often have sports teams that compete against other colleges and universities.\n",
      "10. Graduation: Colleges hold graduation ceremonies to mark the completion of a student's degree program.\n",
      "11. Research: Colleges often conduct research in various fields, such as science, technology, and social sciences.\n",
      "12. Alumni: Colleges have alumni associations that connect graduates with the college and with each other.\n",
      "13. Scholarships: Colleges offer scholarships and financial aid to help students pay for tuition and other expenses.\n",
      "14. Clubs/Organizations: Colleges often have student clubs and organizations that offer extracurricular activities and community service opportunities.\n",
      "15. Career Services: Colleges often have career services that help students find internships and jobs after graduation.\n",
      "\n",
      "These are just a few associations with the keyword 'College'. There are many more, depending on the context and perspective.\n",
      "==================================\u001b[1m Ai Message \u001b[0m==================================\n",
      "\n",
      "Here are some associations with the keyword 'College':\n",
      "\n",
      "1. University: Higher education institution, often perceived as a more advanced or prestigious version of college.\n",
      "2. Students: Typically young adults pursuing post-secondary education in a college setting.\n",
      "3. Classrooms: Traditional learning spaces where college instructors teach various subjects to students.\n",
      "4. Dorms: On-campus accommodations provided for students to live and study.\n",
      "5. Campus: A large plot of land usually containing several buildings, including classrooms, libraries, dorms, cafeterias, and recreational facilities, where college life takes place.\n",
      "6. Football: In the US, colleges are often associated with competitive football, as part of the NCAA (National Collegiate Athletic Association) league.\n",
      "7. Freshman, Sophomore, Junior, Senior: Typical year delineations in the US college system.\n",
      "8. Dorm Life: Social aspect of living in college dorms, including such activities as parties and extracurricular events.\n",
      "9. Exam Stress: Common experience many college students undergo when facing high-pressure academic exams.\n",
      "10. Career Advancement: Upon completing a college degree, a widespread expectation for improved career prospects.\n",
      "11. College Town: Numerous small-to-medium-sized US towns heavily influenced economically by nearby colleges.\n",
      "12. Liberal Arts, Science, Engineering, etc.: Examples of primary fields that a college or college program can encompass.\n",
      "13. Co-curricular activities, clubs and student group's formation.\n",
      "14. Reunion: Often informal alumni gatherings to maintain friendship after graduation from the same college.\n",
      "15. National Achievers Society Recognition.\n"
     ]
    }
   ],
   "source": [
    "normal_res.pretty_print()\n",
    "creative_res.pretty_print()"
   ]
  },
  {
   "cell_type": "code",
   "execution_count": 15,
   "metadata": {},
   "outputs": [],
   "source": [
    "from pydantic import BaseModel, Field\n",
    "\n",
    "class FieldState(BaseModel):\n",
    "  phrases: list[str] = Field(description=\"list of only phrases with the word dumb\")\n",
    "  \n",
    "llm_with_field = llm.with_structured_output(FieldState)\n",
    "\n",
    "msg = \"\"\"\n",
    "hello world\n",
    "you are dumb\n",
    "dumb and dumber\n",
    "bomb bomb pow\n",
    "Donald Trump\n",
    "Kamala Harris\n",
    "Drummber\n",
    "Me?\n",
    "You?\n",
    "\"\"\"\n",
    "\n",
    "response = llm_with_field.invoke(msg)"
   ]
  },
  {
   "cell_type": "code",
   "execution_count": 16,
   "metadata": {},
   "outputs": [
    {
     "data": {
      "text/plain": [
       "FieldState(phrases=['you are dumb', 'dumb and dumber'])"
      ]
     },
     "execution_count": 16,
     "metadata": {},
     "output_type": "execute_result"
    }
   ],
   "source": [
    "response"
   ]
  },
  {
   "cell_type": "code",
   "execution_count": 17,
   "metadata": {},
   "outputs": [],
   "source": [
    "class TestState(BaseModel):\n",
    "  only_phrases_with_word_dumb: list[str]\n",
    "  \n",
    "  \n",
    "llm_with_field = llm.with_structured_output(TestState)\n",
    "\n",
    "msg = \"\"\"\n",
    "hello world\n",
    "you are dumb\n",
    "dumb and dumber\n",
    "bomb bomb pow\n",
    "Donald Trump\n",
    "Kamala Harris\n",
    "Drummber\n",
    "Me?\n",
    "You?\n",
    "\"\"\"\n",
    "\n",
    "response = llm_with_field.invoke(msg)"
   ]
  },
  {
   "cell_type": "code",
   "execution_count": null,
   "metadata": {},
   "outputs": [
    {
     "ename": "ValidationError",
     "evalue": "1 validation error for TestState\nhi\n  Input should be a valid list [type=list_type, input_value=\"['asdf', 'fdas']\", input_type=str]\n    For further information visit https://errors.pydantic.dev/2.9/v/list_type",
     "output_type": "error",
     "traceback": [
      "\u001b[1;31m---------------------------------------------------------------------------\u001b[0m",
      "\u001b[1;31mValidationError\u001b[0m                           Traceback (most recent call last)",
      "Cell \u001b[1;32mIn[38], line 16\u001b[0m\n\u001b[0;32m     13\u001b[0m       \u001b[38;5;28;01mreturn\u001b[39;00m []\n\u001b[0;32m     14\u001b[0m     \u001b[38;5;28;01mreturn\u001b[39;00m value\n\u001b[1;32m---> 16\u001b[0m test \u001b[38;5;241m=\u001b[39m \u001b[43mTestState\u001b[49m\u001b[43m(\u001b[49m\u001b[43mhi\u001b[49m\u001b[38;5;241;43m=\u001b[39;49m\u001b[38;5;124;43m\"\u001b[39;49m\u001b[38;5;124;43m[\u001b[39;49m\u001b[38;5;124;43m'\u001b[39;49m\u001b[38;5;124;43masdf\u001b[39;49m\u001b[38;5;124;43m'\u001b[39;49m\u001b[38;5;124;43m, \u001b[39;49m\u001b[38;5;124;43m'\u001b[39;49m\u001b[38;5;124;43mfdas\u001b[39;49m\u001b[38;5;124;43m'\u001b[39;49m\u001b[38;5;124;43m]\u001b[39;49m\u001b[38;5;124;43m\"\u001b[39;49m\u001b[43m)\u001b[49m\n",
      "File \u001b[1;32md:\\Users\\stephen\\anaconda3\\envs\\joke-writer\\Lib\\site-packages\\pydantic\\main.py:212\u001b[0m, in \u001b[0;36mBaseModel.__init__\u001b[1;34m(self, **data)\u001b[0m\n\u001b[0;32m    210\u001b[0m \u001b[38;5;66;03m# `__tracebackhide__` tells pytest and some other tools to omit this function from tracebacks\u001b[39;00m\n\u001b[0;32m    211\u001b[0m __tracebackhide__ \u001b[38;5;241m=\u001b[39m \u001b[38;5;28;01mTrue\u001b[39;00m\n\u001b[1;32m--> 212\u001b[0m validated_self \u001b[38;5;241m=\u001b[39m \u001b[38;5;28;43mself\u001b[39;49m\u001b[38;5;241;43m.\u001b[39;49m\u001b[43m__pydantic_validator__\u001b[49m\u001b[38;5;241;43m.\u001b[39;49m\u001b[43mvalidate_python\u001b[49m\u001b[43m(\u001b[49m\u001b[43mdata\u001b[49m\u001b[43m,\u001b[49m\u001b[43m \u001b[49m\u001b[43mself_instance\u001b[49m\u001b[38;5;241;43m=\u001b[39;49m\u001b[38;5;28;43mself\u001b[39;49m\u001b[43m)\u001b[49m\n\u001b[0;32m    213\u001b[0m \u001b[38;5;28;01mif\u001b[39;00m \u001b[38;5;28mself\u001b[39m \u001b[38;5;129;01mis\u001b[39;00m \u001b[38;5;129;01mnot\u001b[39;00m validated_self:\n\u001b[0;32m    214\u001b[0m     warnings\u001b[38;5;241m.\u001b[39mwarn(\n\u001b[0;32m    215\u001b[0m         \u001b[38;5;124m'\u001b[39m\u001b[38;5;124mA custom validator is returning a value other than `self`.\u001b[39m\u001b[38;5;130;01m\\n\u001b[39;00m\u001b[38;5;124m'\u001b[39m\n\u001b[0;32m    216\u001b[0m         \u001b[38;5;124m\"\u001b[39m\u001b[38;5;124mReturning anything other than `self` from a top level model validator isn\u001b[39m\u001b[38;5;124m'\u001b[39m\u001b[38;5;124mt supported when validating via `__init__`.\u001b[39m\u001b[38;5;130;01m\\n\u001b[39;00m\u001b[38;5;124m\"\u001b[39m\n\u001b[0;32m    217\u001b[0m         \u001b[38;5;124m'\u001b[39m\u001b[38;5;124mSee the `model_validator` docs (https://docs.pydantic.dev/latest/concepts/validators/#model-validators) for more details.\u001b[39m\u001b[38;5;124m'\u001b[39m,\n\u001b[0;32m    218\u001b[0m         category\u001b[38;5;241m=\u001b[39m\u001b[38;5;28;01mNone\u001b[39;00m,\n\u001b[0;32m    219\u001b[0m     )\n",
      "\u001b[1;31mValidationError\u001b[0m: 1 validation error for TestState\nhi\n  Input should be a valid list [type=list_type, input_value=\"['asdf', 'fdas']\", input_type=str]\n    For further information visit https://errors.pydantic.dev/2.9/v/list_type"
     ]
    }
   ],
   "source": [
    "from pydantic import BaseModel, field_validator, validate_call\n",
    "import json \n",
    "class TestState(BaseModel):\n",
    "  hi: list[str]\n",
    "  \n",
    "  @field_validator('hi', mode='before')\n",
    "  def check_hi(cls, value):\n",
    "    print(\"it is validating\")\n",
    "    if isinstance(value, str):\n",
    "      print('it is string')\n",
    "      print(type(value))\n",
    "      \n",
    "      return []\n",
    "    return value\n",
    "  \n",
    "test = TestState(hi=\"['asdf', 'fdas']\")"
   ]
  }
 ],
 "metadata": {
  "kernelspec": {
   "display_name": "joke-writer",
   "language": "python",
   "name": "python3"
  },
  "language_info": {
   "codemirror_mode": {
    "name": "ipython",
    "version": 3
   },
   "file_extension": ".py",
   "mimetype": "text/x-python",
   "name": "python",
   "nbconvert_exporter": "python",
   "pygments_lexer": "ipython3",
   "version": "3.11.10"
  }
 },
 "nbformat": 4,
 "nbformat_minor": 2
}
