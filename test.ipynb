{
 "cells": [
  {
   "cell_type": "code",
   "execution_count": 2,
   "metadata": {},
   "outputs": [],
   "source": [
    "from langchain_ollama import ChatOllama\n",
    "from langchain_groq import ChatGroq\n",
    "\n",
    "# llm = ChatOllama(model='llama3.2', temperature=0.1, top_p=0.2 )\n",
    "# llm_creative = ChatOllama(model='llama3.2', temperature=1.2, top_p=0.9)\n",
    "llm = ChatGroq(model=\"llama-3.1-70b-versatile\", temperature=0.1, top_p=0.2)\n",
    "llm_creative = ChatGroq(model=\"llama-3.1-70b-versatile\", temperature=1.5, top_p=0.9)"
   ]
  },
  {
   "cell_type": "code",
   "execution_count": 16,
   "metadata": {},
   "outputs": [],
   "source": [
    "normal_res = llm.invoke(\"Generate a funny story\")\n",
    "creative_res = llm_creative.invoke(\"Generate a funny story\")"
   ]
  },
  {
   "cell_type": "code",
   "execution_count": 17,
   "metadata": {},
   "outputs": [
    {
     "name": "stdout",
     "output_type": "stream",
     "text": [
      "==================================\u001b[1m Ai Message \u001b[0m==================================\n",
      "\n",
      "Once upon a time, in the quirky town of Peculiarville, there lived a chicken named Cluck Norris. Yes, you read that right – Cluck Norris, the chicken with a penchant for karate and a serious attitude problem.\n",
      "\n",
      "Cluck was no ordinary fowl. He spent his days practicing his roundhouse kicks on unsuspecting garden gnomes and perfecting his \"Fowl Play\" move, which involved flapping his wings so hard they created a whirlwind that could knock over a small car.\n",
      "\n",
      "One sunny afternoon, Cluck decided to enter the annual Peculiarville Talent Show. The competition was fierce, with contestants ranging from jugglers to accordion players (yes, really). But Cluck was confident in his abilities and strutted onto the stage, flapping his wings for dramatic effect.\n",
      "\n",
      "The emcee, a flamboyant flamingo named Fernando, introduced Cluck as \"the greatest chicken martial artist of all time.\" The crowd erupted into cheers and applause, mostly because they had no idea what to expect from a chicken in a karate suit.\n",
      "\n",
      "Cluck began his routine by kicking off the judges' table with a perfectly executed roundhouse kick. Then, he proceeded to do a series of backflips while balancing on one leg, all while reciting the entire script of \"Fowl Play\" (a movie about chickens who become detectives).\n",
      "\n",
      "The crowd went wild, and even the notoriously tough Peculiarville judges were impressed. They awarded Cluck first prize in the talent show, much to the dismay of the accordion player, who had been practicing for months.\n",
      "\n",
      "As Cluck accepted his trophy – a giant chicken-shaped trophy with a karate belt around its middle – he declared, \"I'm not just a chicken, I'm a force to be reckoned with! And if you don't like it, you can just... FOWL PLAY!\"\n",
      "\n",
      "The crowd roared with laughter, and Cluck Norris became an overnight sensation in Peculiarville. He went on to star in his own line of merchandise, including t-shirts, mugs, and even a chicken-themed amusement park ride.\n",
      "\n",
      "And so, the legend of Cluck Norris lived on, inspiring generations of chickens to come and proving that with enough practice and attitude, even the most unlikely creatures can become stars.\n",
      "==================================\u001b[1m Ai Message \u001b[0m==================================\n",
      "\n",
      "Once upon a time, in the quirky town of Peculiarville, there lived a chicken named Cluck Norris (yes, that was his real name). Cluck was no ordinary chicken. He had big dreams and an even bigger ego.\n",
      "\n",
      "Cluck's claim to fame was his mastery of karate. Yes, you read that right – karate! While other chickens spent their days pecking at the ground for bugs and scratching in the dirt, Cluck Norris devoted himself to perfecting his roundhouse kick and perfecting his \"clucking-fu.\"\n",
      "\n",
      "One sunny afternoon, a clumsy chef named Bob stumbled upon Peculiarville. He was on a mission to create the world's most epic burrito. But, as fate would have it, Bob's giant tortilla-dough ball came crashing down from the sky (he was really hoping for a perfect storm of cheese and salsa), landing squarely in Cluck Norris' front yard.\n",
      "\n",
      "Cluck Norris was NOT pleased with this development. The karate-chicken strutted out of his coop, flapping his wings like an angry eagle, and declared to Bob, \"Hey, you clumsy oaf! You just ruined my perfectly groomed feathers!\"\n",
      "\n",
      "The battle that ensued was...unbelievable. Bob tossed tortilla chips at Cluck Norris, but the fearless chicken deftly dodged them with a flick of his tail feather. Then, Bob launched a massive meatball at Cluck, which bounced right off his shiny armor of an eggshell-skin.\n",
      "\n",
      "Cluck retaliated with his signature move: the \"Fowl Fury\" (okay, it looked more like a flailing chicken dance). The Fowl Fury was so powerful that Bob stumbled backward into the burrito-ball, resulting in...a rather impressive culinary explosion!\n",
      "\n",
      "As the people of Peculiarville emerged from their homes to witness this bizarre spectacle, Cluck Norris triumphantly declared, \"I win! I defend my honor!\"\n",
      "\n",
      "The townsfolk cheered and offered him an epic prize: a year's supply of his favorite snack, Doritos (he just loved those crunchy little cheese-filled disks!).\n",
      "\n",
      "From that day forward, Bob vowed to avoid Peculiarville at all costs, never knowing when Cluck Norris might unleash the Fowl Fury upon him.\n",
      "\n",
      "The end.\n"
     ]
    }
   ],
   "source": [
    "normal_res.pretty_print()\n",
    "creative_res.pretty_print()"
   ]
  },
  {
   "cell_type": "code",
   "execution_count": 15,
   "metadata": {},
   "outputs": [],
   "source": [
    "from pydantic import BaseModel, Field\n",
    "\n",
    "class FieldState(BaseModel):\n",
    "  phrases: list[str] = Field(description=\"list of only phrases with the word dumb\")\n",
    "  \n",
    "llm_with_field = llm.with_structured_output(FieldState)\n",
    "\n",
    "msg = \"\"\"\n",
    "hello world\n",
    "you are dumb\n",
    "dumb and dumber\n",
    "bomb bomb pow\n",
    "Donald Trump\n",
    "Kamala Harris\n",
    "Drummber\n",
    "Me?\n",
    "You?\n",
    "\"\"\"\n",
    "\n",
    "response = llm_with_field.invoke(msg)"
   ]
  },
  {
   "cell_type": "code",
   "execution_count": 16,
   "metadata": {},
   "outputs": [
    {
     "data": {
      "text/plain": [
       "FieldState(phrases=['you are dumb', 'dumb and dumber'])"
      ]
     },
     "execution_count": 16,
     "metadata": {},
     "output_type": "execute_result"
    }
   ],
   "source": [
    "response"
   ]
  },
  {
   "cell_type": "code",
   "execution_count": 17,
   "metadata": {},
   "outputs": [],
   "source": [
    "class TestState(BaseModel):\n",
    "  only_phrases_with_word_dumb: list[str]\n",
    "  \n",
    "  \n",
    "llm_with_field = llm.with_structured_output(TestState)\n",
    "\n",
    "msg = \"\"\"\n",
    "hello world\n",
    "you are dumb\n",
    "dumb and dumber\n",
    "bomb bomb pow\n",
    "Donald Trump\n",
    "Kamala Harris\n",
    "Drummber\n",
    "Me?\n",
    "You?\n",
    "\"\"\"\n",
    "\n",
    "response = llm_with_field.invoke(msg)"
   ]
  },
  {
   "cell_type": "code",
   "execution_count": null,
   "metadata": {},
   "outputs": [
    {
     "ename": "ValidationError",
     "evalue": "1 validation error for TestState\nhi\n  Input should be a valid list [type=list_type, input_value=\"['asdf', 'fdas']\", input_type=str]\n    For further information visit https://errors.pydantic.dev/2.9/v/list_type",
     "output_type": "error",
     "traceback": [
      "\u001b[1;31m---------------------------------------------------------------------------\u001b[0m",
      "\u001b[1;31mValidationError\u001b[0m                           Traceback (most recent call last)",
      "Cell \u001b[1;32mIn[38], line 16\u001b[0m\n\u001b[0;32m     13\u001b[0m       \u001b[38;5;28;01mreturn\u001b[39;00m []\n\u001b[0;32m     14\u001b[0m     \u001b[38;5;28;01mreturn\u001b[39;00m value\n\u001b[1;32m---> 16\u001b[0m test \u001b[38;5;241m=\u001b[39m \u001b[43mTestState\u001b[49m\u001b[43m(\u001b[49m\u001b[43mhi\u001b[49m\u001b[38;5;241;43m=\u001b[39;49m\u001b[38;5;124;43m\"\u001b[39;49m\u001b[38;5;124;43m[\u001b[39;49m\u001b[38;5;124;43m'\u001b[39;49m\u001b[38;5;124;43masdf\u001b[39;49m\u001b[38;5;124;43m'\u001b[39;49m\u001b[38;5;124;43m, \u001b[39;49m\u001b[38;5;124;43m'\u001b[39;49m\u001b[38;5;124;43mfdas\u001b[39;49m\u001b[38;5;124;43m'\u001b[39;49m\u001b[38;5;124;43m]\u001b[39;49m\u001b[38;5;124;43m\"\u001b[39;49m\u001b[43m)\u001b[49m\n",
      "File \u001b[1;32md:\\Users\\stephen\\anaconda3\\envs\\joke-writer\\Lib\\site-packages\\pydantic\\main.py:212\u001b[0m, in \u001b[0;36mBaseModel.__init__\u001b[1;34m(self, **data)\u001b[0m\n\u001b[0;32m    210\u001b[0m \u001b[38;5;66;03m# `__tracebackhide__` tells pytest and some other tools to omit this function from tracebacks\u001b[39;00m\n\u001b[0;32m    211\u001b[0m __tracebackhide__ \u001b[38;5;241m=\u001b[39m \u001b[38;5;28;01mTrue\u001b[39;00m\n\u001b[1;32m--> 212\u001b[0m validated_self \u001b[38;5;241m=\u001b[39m \u001b[38;5;28;43mself\u001b[39;49m\u001b[38;5;241;43m.\u001b[39;49m\u001b[43m__pydantic_validator__\u001b[49m\u001b[38;5;241;43m.\u001b[39;49m\u001b[43mvalidate_python\u001b[49m\u001b[43m(\u001b[49m\u001b[43mdata\u001b[49m\u001b[43m,\u001b[49m\u001b[43m \u001b[49m\u001b[43mself_instance\u001b[49m\u001b[38;5;241;43m=\u001b[39;49m\u001b[38;5;28;43mself\u001b[39;49m\u001b[43m)\u001b[49m\n\u001b[0;32m    213\u001b[0m \u001b[38;5;28;01mif\u001b[39;00m \u001b[38;5;28mself\u001b[39m \u001b[38;5;129;01mis\u001b[39;00m \u001b[38;5;129;01mnot\u001b[39;00m validated_self:\n\u001b[0;32m    214\u001b[0m     warnings\u001b[38;5;241m.\u001b[39mwarn(\n\u001b[0;32m    215\u001b[0m         \u001b[38;5;124m'\u001b[39m\u001b[38;5;124mA custom validator is returning a value other than `self`.\u001b[39m\u001b[38;5;130;01m\\n\u001b[39;00m\u001b[38;5;124m'\u001b[39m\n\u001b[0;32m    216\u001b[0m         \u001b[38;5;124m\"\u001b[39m\u001b[38;5;124mReturning anything other than `self` from a top level model validator isn\u001b[39m\u001b[38;5;124m'\u001b[39m\u001b[38;5;124mt supported when validating via `__init__`.\u001b[39m\u001b[38;5;130;01m\\n\u001b[39;00m\u001b[38;5;124m\"\u001b[39m\n\u001b[0;32m    217\u001b[0m         \u001b[38;5;124m'\u001b[39m\u001b[38;5;124mSee the `model_validator` docs (https://docs.pydantic.dev/latest/concepts/validators/#model-validators) for more details.\u001b[39m\u001b[38;5;124m'\u001b[39m,\n\u001b[0;32m    218\u001b[0m         category\u001b[38;5;241m=\u001b[39m\u001b[38;5;28;01mNone\u001b[39;00m,\n\u001b[0;32m    219\u001b[0m     )\n",
      "\u001b[1;31mValidationError\u001b[0m: 1 validation error for TestState\nhi\n  Input should be a valid list [type=list_type, input_value=\"['asdf', 'fdas']\", input_type=str]\n    For further information visit https://errors.pydantic.dev/2.9/v/list_type"
     ]
    }
   ],
   "source": [
    "from pydantic import BaseModel, field_validator, validate_call\n",
    "import json \n",
    "class TestState(BaseModel):\n",
    "  hi: list[str]\n",
    "  \n",
    "  @field_validator('hi', mode='before')\n",
    "  def check_hi(cls, value):\n",
    "    print(\"it is validating\")\n",
    "    if isinstance(value, str):\n",
    "      print('it is string')\n",
    "      print(type(value))\n",
    "      \n",
    "      return []\n",
    "    return value\n",
    "  \n",
    "test = TestState(hi=\"['asdf', 'fdas']\")"
   ]
  }
 ],
 "metadata": {
  "kernelspec": {
   "display_name": "joke-writer",
   "language": "python",
   "name": "python3"
  },
  "language_info": {
   "codemirror_mode": {
    "name": "ipython",
    "version": 3
   },
   "file_extension": ".py",
   "mimetype": "text/x-python",
   "name": "python",
   "nbconvert_exporter": "python",
   "pygments_lexer": "ipython3",
   "version": "3.11.10"
  }
 },
 "nbformat": 4,
 "nbformat_minor": 2
}
